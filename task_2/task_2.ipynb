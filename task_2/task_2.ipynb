version https://git-lfs.github.com/spec/v1
oid sha256:3e79734263deaeb803e4b262bf0cb9bfe64be42e67ee6870c9bfbaf3383518f3
size 3678511
